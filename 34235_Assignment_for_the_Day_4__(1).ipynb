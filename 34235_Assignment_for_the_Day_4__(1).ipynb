{
 "cells": [
  {
   "cell_type": "markdown",
   "metadata": {},
   "source": [
    "# 1. Write down a program in Python for Opening a File and Writing \" I Love LetsUpgrade\"  And close it, and read it back again, and then append some data to it and close it "
   ]
  },
  {
   "cell_type": "code",
   "execution_count": 4,
   "metadata": {},
   "outputs": [
    {
     "name": "stdout",
     "output_type": "stream",
     "text": [
      "I Love LetsUpgrade.\n"
     ]
    }
   ],
   "source": [
    "my_file = open(\"myfile.txt\",\"w\")\n",
    "my_file.write(\"I Love LetsUpgrade.\")\n",
    "my_file.close()\n",
    "\n",
    "#Reading the file\n",
    "my_file = open(\"myfile.txt\",\"r\")\n",
    "print(my_file.read())\n",
    "\n",
    "#Appending Data to the file\n",
    "my_file = open(\"myfile.txt\",\"a\")\n",
    "my_file.write(\"I am learning Python on LetsUpgrade.\")\n",
    "my_file.close()"
   ]
  },
  {
   "cell_type": "markdown",
   "metadata": {},
   "source": [
    "# 2. Write a function which can return a Factorial of any numbers as INT, given in the argument"
   ]
  },
  {
   "cell_type": "code",
   "execution_count": 10,
   "metadata": {},
   "outputs": [
    {
     "data": {
      "text/plain": [
       "'No factorial for the negative numbers.'"
      ]
     },
     "execution_count": 10,
     "metadata": {},
     "output_type": "execute_result"
    }
   ],
   "source": [
    "def factorial(n):\n",
    "    if n < 0:\n",
    "        return \"No factorial for the negative numbers.\"\n",
    "    elif n == 0 or n == 1:\n",
    "        return 1\n",
    "    else:\n",
    "        fact = 1\n",
    "        while(n>1):\n",
    "            fact = fact*n\n",
    "            n = n-1\n",
    "        return fact\n",
    "    \n",
    "factorial(-7)"
   ]
  },
  {
   "cell_type": "code",
   "execution_count": 3,
   "metadata": {},
   "outputs": [],
   "source": []
  },
  {
   "cell_type": "code",
   "execution_count": null,
   "metadata": {},
   "outputs": [],
   "source": []
  }
 ],
 "metadata": {
  "kernelspec": {
   "display_name": "Python 3",
   "language": "python",
   "name": "python3"
  },
  "language_info": {
   "codemirror_mode": {
    "name": "ipython",
    "version": 3
   },
   "file_extension": ".py",
   "mimetype": "text/x-python",
   "name": "python",
   "nbconvert_exporter": "python",
   "pygments_lexer": "ipython3",
   "version": "3.6.5"
  }
 },
 "nbformat": 4,
 "nbformat_minor": 2
}
