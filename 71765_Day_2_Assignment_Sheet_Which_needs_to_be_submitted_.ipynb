{
 "cells": [
  {
   "cell_type": "markdown",
   "metadata": {},
   "source": [
    "# Dead Line for the Assignment of Day 2 is -> 12 Dec 2020"
   ]
  },
  {
   "cell_type": "markdown",
   "metadata": {},
   "source": [
    "# Assignment 1 Day 2 "
   ]
  },
  {
   "cell_type": "markdown",
   "metadata": {},
   "source": [
    "1. Try 5 Different functions of the String in Python \n",
    "\n",
    "for ex - index, split function, "
   ]
  },
  {
   "cell_type": "code",
   "execution_count": 6,
   "metadata": {},
   "outputs": [
    {
     "name": "stdout",
     "output_type": "stream",
     "text": [
      "Python is my favorite programming language.\n",
      "Number of occurrence of \"Python\" in String = 2\n"
     ]
    }
   ],
   "source": [
    "# 1)len() -> The len() function returns the length of a string.\n",
    "\n",
    "intro = \"My name is Mohammad Shahbaz Alam. I am from Jabalpur.\"\n",
    "len(intro)\n",
    "\n"
   ]
  },
  {
   "cell_type": "code",
   "execution_count": null,
   "metadata": {},
   "outputs": [],
   "source": [
    "# 2)capitalize() -> Return a copy of the string with its first character capitalize and the rest lowercased.\n",
    "\n",
    "intro = \"my name is Mohammad Shahbaz Alam.\"\n",
    "intro.capitalize()"
   ]
  },
  {
   "cell_type": "code",
   "execution_count": null,
   "metadata": {},
   "outputs": [],
   "source": [
    "# 3)upper() -> Convert a string to uppercase.\n",
    "intro = \"my name is mohammad shahbaz alam. i am from jabalpur.\"\n",
    "intro.upper()"
   ]
  },
  {
   "cell_type": "code",
   "execution_count": null,
   "metadata": {},
   "outputs": [],
   "source": [
    "# 4)replace() -> replace() function is used to create a string by replacing some parts of original string.\n",
    "fav_prog_lang = \"Php is my favorite programming language.\"\n",
    "new_fav_lang = fav_prog_lang.replace('Php','Python')\n",
    "print(new_fav_lang)"
   ]
  },
  {
   "cell_type": "code",
   "execution_count": null,
   "metadata": {},
   "outputs": [],
   "source": [
    "# 5)count() -> count() function returns the number of occurrences of a substring in the given string.\n",
    "s = \"I like Python programming. Python is awesome!\"\n",
    "print(f'Number of occurrence of \"Python\" in String = {s.count(\"Python\")}')"
   ]
  },
  {
   "cell_type": "markdown",
   "metadata": {},
   "source": [
    "# Assignmet 2 Day 2 "
   ]
  },
  {
   "cell_type": "markdown",
   "metadata": {},
   "source": [
    "2. Try 5 Different functions of the List object in Python"
   ]
  },
  {
   "cell_type": "code",
   "execution_count": 10,
   "metadata": {},
   "outputs": [
    {
     "name": "stdout",
     "output_type": "stream",
     "text": [
      "List : ['abc', 'xyz', 'zara']\n",
      "List : ['abc', 'zara', 'xyz']\n"
     ]
    }
   ],
   "source": [
    "# 1) sort() -> This method sorts objects of list.\n",
    "\n",
    "a = ['xyz', 'zara', 'abc']\n",
    "a.sort()\n",
    "print(\"List :\" , a)\n",
    "\n",
    "# 2) reverse() -> This method reverse objects of list.\n",
    "a = ['xyz', 'zara', 'abc']\n",
    "a.reverse()\n",
    "print(\"List :\" , a)\n",
    "\n"
   ]
  },
  {
   "cell_type": "code",
   "execution_count": 12,
   "metadata": {},
   "outputs": [
    {
     "name": "stdout",
     "output_type": "stream",
     "text": [
      "['India', 'Canada', 'New Zealand', 'Turkey']\n"
     ]
    }
   ],
   "source": [
    "# 3) append() -> This function is use to add an item to the end of the list\n",
    "fav_countries = [\"India\",\"Canada\",\"New Zealand\"]\n",
    "fav_countries.append('Turkey')\n",
    "print(fav_countries)"
   ]
  },
  {
   "cell_type": "code",
   "execution_count": 13,
   "metadata": {},
   "outputs": [
    {
     "name": "stdout",
     "output_type": "stream",
     "text": [
      "['India', 'Canada', 'New Zealand', 'Kolkata', 'New Delhi', 'London']\n"
     ]
    }
   ],
   "source": [
    "# 4) extend() -> This method is use to append the items from other list to the current list.\n",
    "fav_places = [\"India\",\"Canada\",\"New Zealand\"]\n",
    "fav_cities = [\"Kolkata\",\"New Delhi\",\"London\"]\n",
    "fav_places.extend(fav_cities)\n",
    "print(fav_places)"
   ]
  },
  {
   "cell_type": "code",
   "execution_count": 14,
   "metadata": {},
   "outputs": [
    {
     "name": "stdout",
     "output_type": "stream",
     "text": [
      "['Python', 'Php', 'JavaScript', 'SQL']\n"
     ]
    }
   ],
   "source": [
    "# 5) remove() -> This method removes the specified item.\n",
    "fav_prog_lang = [\"Python\",\"Php\",\"JavaScript\",\"Java\",\"SQL\"]\n",
    "fav_prog_lang.remove('Java')\n",
    "print(fav_prog_lang)"
   ]
  },
  {
   "cell_type": "markdown",
   "metadata": {},
   "source": [
    "# Assignmet 3 Day 2 "
   ]
  },
  {
   "cell_type": "markdown",
   "metadata": {},
   "source": [
    "3. Experiment with atleast 5 default functions of Dict"
   ]
  },
  {
   "cell_type": "code",
   "execution_count": 15,
   "metadata": {},
   "outputs": [
    {
     "name": "stdout",
     "output_type": "stream",
     "text": [
      "dict_keys(['Name', 'email', 'Profession', 'Goal'])\n"
     ]
    }
   ],
   "source": [
    "# 1) keys() -> This method will return a list of all the keys in the dictionary\n",
    "\n",
    "person_info = {\n",
    "    'Name' : 'Mohammad Shahbaz Alam',\n",
    "    'email' : 'learningtechaddress@gmail.com',\n",
    "    'Profession' : 'Software Developer',\n",
    "    'Goal' : 'To be a Data Scientist'\n",
    "}\n",
    "x = person_info.keys()\n",
    "print(x)"
   ]
  },
  {
   "cell_type": "code",
   "execution_count": 16,
   "metadata": {},
   "outputs": [
    {
     "name": "stdout",
     "output_type": "stream",
     "text": [
      "dict_values(['Mohammad Shahbaz Alam', 'learningtechaddress@gmail.com', 'Software Developer', 'To be a Data Scientist'])\n"
     ]
    }
   ],
   "source": [
    "# 2) values() -> This method will return a list of all the values in the dictionary.\n",
    "\n",
    "person_info = {\n",
    "    'Name' : 'Mohammad Shahbaz Alam',\n",
    "    'email' : 'learningtechaddress@gmail.com',\n",
    "    'Profession' : 'Software Developer',\n",
    "    'Goal' : 'To be a Data Scientist'\n",
    "}\n",
    "\n",
    "x = person_info.values()\n",
    "print(x)"
   ]
  },
  {
   "cell_type": "code",
   "execution_count": 17,
   "metadata": {},
   "outputs": [
    {
     "name": "stdout",
     "output_type": "stream",
     "text": [
      "dict_items([('Name', 'Mohammad Shahbaz Alam'), ('email', 'learningtechaddress@gmail.com'), ('Profession', 'Software Developer'), ('Goal', 'To be a Data Scientist')])\n"
     ]
    }
   ],
   "source": [
    "# 3) items() -> This method will return each item in a dictionary, as tuples in a list.\n",
    "\n",
    "person_info = {\n",
    "    'Name' : 'Mohammad Shahbaz Alam',\n",
    "    'email' : 'learningtechaddress@gmail.com',\n",
    "    'Profession' : 'Software Developer',\n",
    "    'Goal' : 'To be a Data Scientist'\n",
    "}\n",
    "\n",
    "x = person_info.items()\n",
    "print(x)"
   ]
  },
  {
   "cell_type": "code",
   "execution_count": 18,
   "metadata": {},
   "outputs": [
    {
     "name": "stdout",
     "output_type": "stream",
     "text": [
      "{'Name': 'Mohammad Shahbaz Alam', 'email': 'learningtechaddress@gmail.com', 'Profession': 'Software Developer', 'Goal': 'To be a Data Scientist', 'city': 'Jabalpur'}\n"
     ]
    }
   ],
   "source": [
    "# 4) update() -> This method will update the dictionary with the items from a given argument. If the item does not exist, the item will be added.\n",
    "person_info = {\n",
    "    'Name' : 'Mohammad Shahbaz Alam',\n",
    "    'email' : 'learningtechaddress@gmail.com',\n",
    "    'Profession' : 'Software Developer',\n",
    "    'Goal' : 'To be a Data Scientist'\n",
    "}\n",
    "# Adding 'city' to the dictionary\n",
    "person_info.update({'city' : 'Jabalpur'})\n",
    "print(person_info)\n"
   ]
  },
  {
   "cell_type": "code",
   "execution_count": 19,
   "metadata": {},
   "outputs": [
    {
     "name": "stdout",
     "output_type": "stream",
     "text": [
      "{'Name': 'Mohammad Shahbaz Alam', 'email': 'learningtechaddress@gmail.com', 'Profession': 'Software Developer', 'Goal': 'To be a Data Scientist'}\n"
     ]
    }
   ],
   "source": [
    "# 5) pop() -> This  method removes the item with the specified key name.\n",
    "person_info = {\n",
    "    'Name' : 'Mohammad Shahbaz Alam',\n",
    "    'email' : 'learningtechaddress@gmail.com',\n",
    "    'Profession' : 'Software Developer',\n",
    "    'Goal' : 'To be a Data Scientist',\n",
    "    'city' : 'Jabalpur'\n",
    "}\n",
    "#Removing 'city'\n",
    "person_info.pop(\"city\")\n",
    "print(person_info)"
   ]
  },
  {
   "cell_type": "code",
   "execution_count": null,
   "metadata": {},
   "outputs": [],
   "source": []
  }
 ],
 "metadata": {
  "kernelspec": {
   "display_name": "Python 3",
   "language": "python",
   "name": "python3"
  },
  "language_info": {
   "codemirror_mode": {
    "name": "ipython",
    "version": 3
   },
   "file_extension": ".py",
   "mimetype": "text/x-python",
   "name": "python",
   "nbconvert_exporter": "python",
   "pygments_lexer": "ipython3",
   "version": "3.6.5"
  }
 },
 "nbformat": 4,
 "nbformat_minor": 2
}
