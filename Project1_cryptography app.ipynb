{
 "cells": [
  {
   "cell_type": "markdown",
   "metadata": {},
   "source": [
    "# Project_1 -> Cryptography\n",
    "\n",
    "Def: Cryptography is associated with the process of converting ordinary plain text into unintelligible text and vice-versa. It is a method of storing and transmitting data in a particular form so that only those for whom it is intended can read and process it."
   ]
  },
  {
   "cell_type": "code",
   "execution_count": 1,
   "metadata": {},
   "outputs": [],
   "source": [
    "#Cipher Text ->\n",
    "# Text which is the result of encryption is known as cipher text"
   ]
  },
  {
   "cell_type": "code",
   "execution_count": 2,
   "metadata": {},
   "outputs": [],
   "source": [
    "# Encryption ->\n",
    "#Converting message to secret message is known as Encryption"
   ]
  },
  {
   "cell_type": "code",
   "execution_count": 3,
   "metadata": {},
   "outputs": [],
   "source": [
    "# Opposite of encryption is Decryption"
   ]
  },
  {
   "cell_type": "markdown",
   "metadata": {},
   "source": [
    "# Write a python program to convert given text to cipher text and whenever the key is available, it should convert it back to the normal message.\n",
    "\n",
    "Step 1: Which library to use to convert normal text to cipher text\n",
    "\n",
    "Step 2: Take input from user and convert it to Cipher text\n",
    "\n",
    "Step 3: Display back the Cipher text to the user\n",
    "\n",
    "Stpe 4: Load the key and if the key is same, based upon the provided, convert it to the normal text."
   ]
  },
  {
   "cell_type": "code",
   "execution_count": 5,
   "metadata": {},
   "outputs": [
    {
     "name": "stdout",
     "output_type": "stream",
     "text": [
      "Requirement already satisfied: cryptography in c:\\users\\aa\\anaconda3\\lib\\site-packages (2.2.2)\n",
      "Requirement already satisfied: idna>=2.1 in c:\\users\\aa\\anaconda3\\lib\\site-packages (from cryptography) (2.6)\n",
      "Requirement already satisfied: asn1crypto>=0.21.0 in c:\\users\\aa\\anaconda3\\lib\\site-packages (from cryptography) (0.24.0)\n",
      "Requirement already satisfied: six>=1.4.1 in c:\\users\\aa\\anaconda3\\lib\\site-packages (from cryptography) (1.11.0)\n",
      "Requirement already satisfied: cffi>=1.7 in c:\\users\\aa\\anaconda3\\lib\\site-packages (from cryptography) (1.11.5)\n",
      "Requirement already satisfied: pycparser in c:\\users\\aa\\anaconda3\\lib\\site-packages (from cffi>=1.7->cryptography) (2.18)\n"
     ]
    },
    {
     "name": "stderr",
     "output_type": "stream",
     "text": [
      "distributed 1.21.8 requires msgpack, which is not installed.\n",
      "You are using pip version 10.0.1, however version 20.3.1 is available.\n",
      "You should consider upgrading via the 'python -m pip install --upgrade pip' command.\n"
     ]
    }
   ],
   "source": [
    "#Step 1:\n",
    "\n",
    "!pip install cryptography"
   ]
  },
  {
   "cell_type": "code",
   "execution_count": 10,
   "metadata": {},
   "outputs": [],
   "source": [
    "from cryptography.fernet import Fernet"
   ]
  },
  {
   "cell_type": "code",
   "execution_count": 15,
   "metadata": {},
   "outputs": [],
   "source": [
    "# Generate a Key\n",
    "def generatePassKey():\n",
    "    key = Fernet.generate_key()\n",
    "    print(key)\n",
    "    print(type(key))\n",
    "    cdf = open('password.key','wb') #wb - writing bits\n",
    "    cdf.write(key)\n",
    "    cdf.close()"
   ]
  },
  {
   "cell_type": "code",
   "execution_count": 16,
   "metadata": {},
   "outputs": [
    {
     "name": "stdout",
     "output_type": "stream",
     "text": [
      "b'EOcC9qaOJfmomM0n2AtgYeLcwrFfJkimd76WgQDfpa8='\n",
      "<class 'bytes'>\n"
     ]
    }
   ],
   "source": [
    "generatePassKey()"
   ]
  },
  {
   "cell_type": "code",
   "execution_count": 17,
   "metadata": {},
   "outputs": [],
   "source": [
    "# Retrieving Key\n",
    "def getMyKey():\n",
    "    cdf = open('password.key','rb') #rb - read bytes\n",
    "    return cdf.read()"
   ]
  },
  {
   "cell_type": "code",
   "execution_count": 18,
   "metadata": {},
   "outputs": [
    {
     "data": {
      "text/plain": [
       "b'EOcC9qaOJfmomM0n2AtgYeLcwrFfJkimd76WgQDfpa8='"
      ]
     },
     "execution_count": 18,
     "metadata": {},
     "output_type": "execute_result"
    }
   ],
   "source": [
    "getMyKey()"
   ]
  },
  {
   "cell_type": "code",
   "execution_count": 19,
   "metadata": {},
   "outputs": [],
   "source": [
    "#Get content from user\n",
    "def getContentFromUser():\n",
    "    return input(\"Enter the message you want to encrypt:  \")"
   ]
  },
  {
   "cell_type": "code",
   "execution_count": 20,
   "metadata": {},
   "outputs": [
    {
     "name": "stdout",
     "output_type": "stream",
     "text": [
      "Enter the message you want to encrypt:  Hey, I want to be a Data Scientist\n"
     ]
    },
    {
     "data": {
      "text/plain": [
       "'Hey, I want to be a Data Scientist'"
      ]
     },
     "execution_count": 20,
     "metadata": {},
     "output_type": "execute_result"
    }
   ],
   "source": [
    "getContentFromUser()"
   ]
  },
  {
   "cell_type": "code",
   "execution_count": 21,
   "metadata": {},
   "outputs": [],
   "source": [
    "# Encrypting Message\n",
    "def encryptMessage(message_normal):\n",
    "    key = getMyKey()\n",
    "    k = Fernet(key)\n",
    "    encrypted_message = k.encrypt(message_normal)\n",
    "    return encrypted_message"
   ]
  },
  {
   "cell_type": "code",
   "execution_count": 22,
   "metadata": {},
   "outputs": [
    {
     "data": {
      "text/plain": [
       "b'gAAAAABf14ZhBu05nuOY_2PgGLG9sjfyF3J_ZmDMhV92etIDPI7JinEpjCRoSsSCjTYI4ctyO1OSeF9OHk3r0m6uRVx6ri5NkuutcwUaJH6XhPeXyMfvoBKX1HrC5vadf4agVKmaj85w'"
      ]
     },
     "execution_count": 22,
     "metadata": {},
     "output_type": "execute_result"
    }
   ],
   "source": [
    "encryptMessage(b'Hey, I want to be a Data Scientist')"
   ]
  },
  {
   "cell_type": "code",
   "execution_count": 23,
   "metadata": {},
   "outputs": [],
   "source": [
    "# Decrypting Message\n",
    "def decryptMessage(message_secret):\n",
    "    key = getMyKey()\n",
    "    k = Fernet(key)\n",
    "    decrypt_message = k.decrypt(message_secret)\n",
    "    return decrypt_message"
   ]
  },
  {
   "cell_type": "code",
   "execution_count": 24,
   "metadata": {},
   "outputs": [
    {
     "data": {
      "text/plain": [
       "b'Hey, I want to be a Data Scientist'"
      ]
     },
     "execution_count": 24,
     "metadata": {},
     "output_type": "execute_result"
    }
   ],
   "source": [
    "decryptMessage(b'gAAAAABf14ZhBu05nuOY_2PgGLG9sjfyF3J_ZmDMhV92etIDPI7JinEpjCRoSsSCjTYI4ctyO1OSeF9OHk3r0m6uRVx6ri5NkuutcwUaJH6XhPeXyMfvoBKX1HrC5vadf4agVKmaj85w')"
   ]
  },
  {
   "cell_type": "code",
   "execution_count": null,
   "metadata": {},
   "outputs": [],
   "source": []
  }
 ],
 "metadata": {
  "kernelspec": {
   "display_name": "Python 3",
   "language": "python",
   "name": "python3"
  },
  "language_info": {
   "codemirror_mode": {
    "name": "ipython",
    "version": 3
   },
   "file_extension": ".py",
   "mimetype": "text/x-python",
   "name": "python",
   "nbconvert_exporter": "python",
   "pygments_lexer": "ipython3",
   "version": "3.6.5"
  }
 },
 "nbformat": 4,
 "nbformat_minor": 2
}
