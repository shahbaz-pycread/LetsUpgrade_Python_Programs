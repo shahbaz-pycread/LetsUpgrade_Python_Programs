{
 "cells": [
  {
   "cell_type": "code",
   "execution_count": 4,
   "metadata": {},
   "outputs": [
    {
     "name": "stdout",
     "output_type": "stream",
     "text": [
      "Requirement already satisfied: pytube in c:\\users\\aa\\anaconda3\\lib\\site-packages (10.0.0)\n",
      "Requirement already satisfied: typing-extensions in c:\\users\\aa\\anaconda3\\lib\\site-packages (from pytube) (3.7.4.3)\n"
     ]
    }
   ],
   "source": [
    "!pip install pytube\n"
   ]
  },
  {
   "cell_type": "code",
   "execution_count": 5,
   "metadata": {},
   "outputs": [],
   "source": [
    "from pytube import YouTube"
   ]
  },
  {
   "cell_type": "code",
   "execution_count": 6,
   "metadata": {},
   "outputs": [],
   "source": [
    "#tkinter\n",
    "from tkinter import *"
   ]
  },
  {
   "cell_type": "code",
   "execution_count": 7,
   "metadata": {},
   "outputs": [],
   "source": [
    "#Create Windows\n",
    "root = Tk()"
   ]
  },
  {
   "cell_type": "code",
   "execution_count": null,
   "metadata": {},
   "outputs": [],
   "source": [
    "#Setting window size\n",
    "root.geometry('350x200')\n",
    "\n",
    "#Title for window\n",
    "root.title(\"Welcome to Youtube Downloader\")\n",
    "\n",
    "def youtube():\n",
    "    video_link = var.get() \n",
    "    yt_video = YouTube(video_link).streams.filter(progressive=True, file_extension='mp4').order_by('resolution').desc().first()\n",
    "    yt_video.download(r\"path_to_download_video\")\n",
    "    print(\"Entry Box: \",video_link)\n",
    "\n",
    "#Label Widget\n",
    "lb1 = Label(root,text=\"Youtube Video Link\", fg=\"Blue\", font = (\"Arial Bold\", 20))\n",
    "lb1.place(x=100,y=50)\n",
    "\n",
    "\n",
    "# Entry Box\n",
    "\n",
    "var = StringVar()\n",
    "entry_box = Entry(root, textvariable = var, width=60)\n",
    "entry_box.place(x=110, y=100)\n",
    "\n",
    "\n",
    "#button\n",
    "b1 = Button(root,text = \"Download Video\", command=youtube, width=20, bg=\"Green\")\n",
    "b1.place(x = 100, y=130)\n",
    "root.mainloop()\n"
   ]
  }
 ],
 "metadata": {
  "kernelspec": {
   "display_name": "Python 3",
   "language": "python",
   "name": "python3"
  },
  "language_info": {
   "codemirror_mode": {
    "name": "ipython",
    "version": 3
   },
   "file_extension": ".py",
   "mimetype": "text/x-python",
   "name": "python",
   "nbconvert_exporter": "python",
   "pygments_lexer": "ipython3",
   "version": "3.6.5"
  }
 },
 "nbformat": 4,
 "nbformat_minor": 2
}
